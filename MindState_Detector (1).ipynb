{
  "cells": [
    {
      "cell_type": "code",
      "execution_count": null,
      "metadata": {
        "colab": {
          "base_uri": "https://localhost:8080/"
        },
        "id": "a7USeDT-J_kg",
        "outputId": "27d4002a-970c-4f24-d3f4-e155aafe5d6f"
      },
      "outputs": [
        {
          "name": "stdout",
          "output_type": "stream",
          "text": [
            "<class 'pandas.core.frame.DataFrame'>\n",
            "RangeIndex: 53043 entries, 0 to 53042\n",
            "Data columns (total 3 columns):\n",
            " #   Column      Non-Null Count  Dtype \n",
            "---  ------      --------------  ----- \n",
            " 0   Unnamed: 0  53043 non-null  int64 \n",
            " 1   statement   52681 non-null  object\n",
            " 2   status      53043 non-null  object\n",
            "dtypes: int64(1), object(2)\n",
            "memory usage: 1.2+ MB\n",
            "Index(['Unnamed: 0', 'statement', 'status'], dtype='object')\n",
            "\n",
            "count                 52681\n",
            "unique                51073\n",
            "top       what do you mean?\n",
            "freq                     22\n",
            "Name: statement, dtype: object\n",
            " \n",
            "\n"
          ]
        },
        {
          "data": {
            "text/plain": [
              "array(['Anxiety', 'Normal', 'Depression', 'Suicidal', 'Stress', 'Bipolar',\n",
              "       'Personality disorder'], dtype=object)"
            ]
          },
          "execution_count": 9,
          "metadata": {},
          "output_type": "execute_result"
        }
      ],
      "source": [
        "import pandas as pd\n",
        "\n",
        "file = pd.read_csv(\"Combined Data.csv\")\n",
        "\n",
        "\n",
        "file.info()\n",
        "file.isnull().sum()\n",
        "file.duplicated().sum()\n",
        "print(file.columns)\n",
        "print(file['statement'].describe())\n",
        "file['status'].nunique()\n",
        "file['status'].unique()"
      ]
    },
    {
      "cell_type": "code",
      "execution_count": null,
      "metadata": {
        "id": "-_14SyqmnM0F"
      },
      "outputs": [],
      "source": [
        "import pandas as pd\n",
        "import spacy\n",
        "import re\n",
        "from tqdm import tqdm\n",
        "tqdm.pandas()\n",
        "nlp = spacy.load(\"en_core_web_sm\", disable=[\"parser\", \"ner\", \"tagger\"])\n",
        "\n",
        "file = pd.read_csv(\"Combined Data.csv\")\n",
        "\n",
        "file = file.dropna()\n",
        "\n",
        "file = file.drop_duplicates(subset=['statement'])\n",
        "\n",
        "file['statement_'] = file['statement'].astype('string')\n",
        "assert file['statement_'].dtype == 'string'\n",
        "\n",
        "file['statement_'] = file['statement_'].apply(lambda x: re.sub(r'[^\\w\\s]', '', x))\n",
        "\n",
        "file['statement_'] = file['statement_'].str.lower()\n",
        "assert file['statement_'].apply(lambda x : x == x.lower()).all()\n",
        "\n",
        "texts = file[\"statement\"].tolist()\n",
        "file[\"lemmatized\"] = [process_text(text) for text in tqdm(texts)]\n",
        "\n",
        "\n",
        "def process_text(text):\n",
        "    doc = nlp(text)\n",
        "    return \" \".join([token.lemma_ for token in doc])\n",
        "\n",
        "file.info()\n",
        "file.sample(2)\n"
      ]
    },
    {
      "cell_type": "code",
      "execution_count": null,
      "metadata": {
        "id": "C_UTtcyfnZRR"
      },
      "outputs": [],
      "source": [
        "from google.colab import files\n",
        "file[['statement_', 'lemmatized', 'status']].to_csv(\"cleaned_sentiment.csv\", index=False)\n",
        "files.download(\"cleaned_sentiment.csv\")"
      ]
    },
    {
      "cell_type": "code",
      "execution_count": null,
      "metadata": {
        "collapsed": true,
        "id": "ToWd8MwP8pFT"
      },
      "outputs": [],
      "source": [
        "!pip install -U sentence-transformers\n",
        "\n"
      ]
    },
    {
      "cell_type": "code",
      "execution_count": null,
      "metadata": {
        "id": "3k6t3ypRQTcq"
      },
      "outputs": [],
      "source": [
        "from sentence_transformers import SentenceTransformer\n",
        "from sklearn.linear_model import LogisticRegression\n",
        "from sklearn.metrics import accuracy_score, classification_report\n",
        "from sklearn.model_selection import train_test_split\n",
        "from sklearn.decomposition import PCA\n",
        "from sklearn.feature_extraction.text import CountVectorizer\n",
        "import pandas as pd\n",
        "\n",
        "file = pd.read_csv('cleaned_sentiment.csv').dropna()\n",
        "\n",
        "bert_model = SentenceTransformer('all-MiniLM-L6-v2')\n",
        "\n",
        "X_embeddings = bert_model.encode(file['lemmatized'].tolist(),batch_size=256, show_progress_bar=True, convert_to_numpy=True)\n",
        "pca = PCA(n_components=100)\n",
        "X_clean = pca.fit_transform(X_embeddings)\n",
        "X_train, X_test, y_train, y_test = train_test_split(X_embeddings, file['status'], test_size=0.2, random_state=42)\n",
        "\n",
        "\n",
        "model = LogisticRegression(max_iter=1000, class_weight='balanced', C=0.1)\n",
        "model.fit(X_train, y_train)\n",
        "y_predict = model.predict(X_test)\n",
        "\n",
        "\n",
        "print(f\" accuracy : {accuracy_score(y_test, y_predict)}\")\n",
        "print(classification_report(y_test, y_predict))"
      ]
    },
    {
      "cell_type": "code",
      "execution_count": null,
      "metadata": {
        "collapsed": true,
        "id": "Iyrla-QsQWGQ"
      },
      "outputs": [],
      "source": [
        "!pip install joblib\n",
        "!pip install gradio\n"
      ]
    },
    {
      "cell_type": "code",
      "execution_count": null,
      "metadata": {
        "id": "o_ka9bLuFHjS"
      },
      "outputs": [],
      "source": [
        "import joblib\n",
        "\n",
        "joblib.dump(model, \"emotion_classifier.pkl\")"
      ]
    },
    {
      "cell_type": "code",
      "execution_count": null,
      "metadata": {
        "colab": {
          "background_save": true
        },
        "id": "ST7Jwd8hFby4"
      },
      "outputs": [],
      "source": [
        "import re\n",
        "import spacy\n",
        "from sentence_transformers import SentenceTransformer\n",
        "import joblib\n",
        "\n",
        "bert_model = SentenceTransformer('all-MiniLM-L6-v2')\n",
        "model = joblib.load(\"emotion_classifier.pkl\")\n",
        "nlp = spacy.load(\"en_core_web_sm\", disable=[\"parser\", \"ner\", \"tagger\"])\n",
        "\n",
        "def yay(text):\n",
        "  text = text.lower()\n",
        "  text = re.sub(r'[^\\w\\s]', '', text)\n",
        "  doc = nlp(text)\n",
        "  lemma = [' '.join([token.lemma_ for token in doc])]\n",
        "  embed = bert_model.encode(lemma, convert_to_numpy=True)\n",
        "  predict = model.predict(embed)[0]\n",
        "  proba = model.predict_proba(embed)[0]\n",
        "  return predict\n",
        "\n",
        "advices = [\n",
        "    [\"depression\", \"You're not alone. It's important to talk to someone you trust and seek support from a mental health professional.\"],\n",
        "    [\"anxiety\", \"Take a deep breath. Focus on grounding yourself through slow breathing or calming activities like journaling or music.\"],\n",
        "    [\"suicidal\", \"Please talk to someone immediately. You're important and your life matters. Reach out to a crisis line or a trusted person.\"],\n",
        "    [\"stress\", \"Give yourself a break. Even small pauses, a walk, or calming music can help reduce tension. Take care of your body and mind.\"],\n",
        "    [\"bipolar\", \"Mood shifts are not your fault. Keeping a regular routine and getting professional support helps you stay stable.\"],\n",
        "    [\"personality disorder\", \"You deserve understanding and support. Therapy and safe relationships can help you grow and feel more grounded.\"],\n",
        "    [\"neutral\", \"I'm here to listen. You can share anything you feel, at your own pace.\"]\n",
        "]\n",
        "\n",
        "\n",
        "while True :\n",
        "  user = input(\"You can express yourself freely it's a safe space press exit if you want to exit  \")\n",
        "\n",
        "  if user.lower() == \"exit\":\n",
        "    break\n",
        "  print(f\"your feeling rn is : {yay(user)}\")\n",
        "  for y in advices :\n",
        "    if yay(user) == y[0] :\n",
        "      print(y[1])\n"
      ]
    }
  ],
  "metadata": {
    "colab": {
      "provenance": []
    },
    "kernelspec": {
      "display_name": "Python 3",
      "name": "python3"
    },
    "language_info": {
      "name": "python"
    }
  },
  "nbformat": 4,
  "nbformat_minor": 0
}